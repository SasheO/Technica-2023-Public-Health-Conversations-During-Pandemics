{
 "cells": [
  {
   "cell_type": "code",
   "execution_count": 11,
   "id": "0df5ee1a",
   "metadata": {},
   "outputs": [],
   "source": [
    "import time\n",
    "import openai\n",
    "import pandas as pd\n",
    "from dotenv import load_dotenv, find_dotenv   # get the system environment variables\n",
    "import tiktoken\n",
    "import os  # get command line arguments"
   ]
  },
  {
   "cell_type": "code",
   "execution_count": 12,
   "id": "e894a695",
   "metadata": {},
   "outputs": [],
   "source": [
    "filename = \"../data/participant_data_for_subversive_tweets_on_vaccines.csv\"\n",
    "f = open(filename, \"r\")\n",
    "userids = pd.read_csv(filename)['userid'].tolist()\n",
    "texts = pd.read_csv(filename)['text'].tolist()\n",
    "\n",
    "participants_to_tweets = {}\n",
    "\n",
    "for indx in range(len(userids)):\n",
    "    userid = userids[indx]\n",
    "    text = texts[indx]\n",
    "    if userid in participants_to_tweets:\n",
    "        if type(text)!=str:\n",
    "            continue\n",
    "        participants_to_tweets[userid] += \"\\n\"+text\n",
    "    else:\n",
    "        participants_to_tweets[userid] = text"
   ]
  },
  {
   "cell_type": "code",
   "execution_count": 13,
   "id": "370a168e",
   "metadata": {},
   "outputs": [],
   "source": [
    "load_dotenv(find_dotenv())  # load the environment variables\n",
    "openai.api_key=os.getenv(\"OPENAI_API_KEY\")\n",
    "\n",
    "messages = []\n",
    "system_message = \"You are deciding whether people are pro-science or anti-science with respect to COVID based on their tweets. Pro-science users generally express opinions that agree with conventional science and anti-science users may propagate conspiracies.\"\n",
    "messages.append({\"role\":\"system\",\"content\":system_message})"
   ]
  },
  {
   "cell_type": "code",
   "execution_count": null,
   "id": "641f399a",
   "metadata": {},
   "outputs": [
    {
     "name": "stdout",
     "output_type": "stream",
     "text": [
      "4278\n",
      "4255\n",
      "4225\n",
      "4190\n",
      "4168\n",
      "4119\n",
      "4099\n",
      "4054\n",
      "4024\n",
      "3987\n",
      "3974\n",
      "3931\n",
      "3919\n",
      "3897\n",
      "3866\n",
      "3854\n",
      "3839\n",
      "3802\n",
      "3755\n",
      "3704\n",
      "3678\n",
      "3666\n",
      "3645\n",
      "3621\n",
      "3571\n",
      "3550\n",
      "3515\n",
      "3475\n"
     ]
    }
   ],
   "source": [
    "encoding = tiktoken.encoding_for_model(\"gpt-3.5-turbo\") \n",
    "\n",
    "# a = 0\n",
    "with open(\"chatgpt_classifications.csv\", \"a+\") as f:\n",
    "    f.write(\"userid,classification\\n\")\n",
    "for user in participants_to_tweets:  # This starts an infinite loop\n",
    "    messages = []\n",
    "    system_message = \"You are deciding whether people are pro-science or anti-science with respect to COVID based on their tweets. Pro-science users generally express opinions that agree with conventional science and anti-science users may propagate conspiracies.\"\n",
    "    messages.append({\"role\":\"system\",\"content\":system_message})\n",
    "    message = \"I am trying to classify twitter users as either pro-science or anti-science with respect to COVID. Pro-science users generally express opinions that agree with conventional science and anti-science users may propagate conspiracies. Could you classify a user based on this text. Your output should simply be pro-science, anti-science or unsure: \\n\"+participants_to_tweets[user]\n",
    "    token_count = len(encoding.encode(message))\n",
    "    if token_count > 3500:\n",
    "        message_list = message.split(\"\\n\")\n",
    "        current = 1\n",
    "        \n",
    "    while token_count > 3500:\n",
    "        \n",
    "        message = \"\"\n",
    "        for x in message_list[:-current]:\n",
    "            message += x + \"\\n\"\n",
    "        token_count = len(encoding.encode(message))\n",
    "        print(token_count)\n",
    "        current += 1\n",
    "    messages.append({\"role\":\"user\",\"content\": message})\n",
    "\n",
    "    response=openai.ChatCompletion.create(\n",
    "     model=\"gpt-3.5-turbo\",\n",
    "     messages=messages\n",
    "    )\n",
    "    \n",
    "\n",
    "    reply = response[\"choices\"][0][\"message\"][\"content\"]\n",
    "    try:\n",
    "        with open(\"chatgpt_classifications.csv\", \"a+\") as f:\n",
    "            f.write(str(user)+\",\"+reply+\"\\n\")\n",
    "            time.sleep(30)\n",
    "    except:\n",
    "        with open(\"chatgpt_classifications.csv\", \"a+\") as f:\n",
    "            f.write(str(user)+\",\"+reply+\"\\n\")\n",
    "            time.sleep(30)\n",
    "#         a += 1\n",
    "#         if a == 2:\n",
    "#             break"
   ]
  },
  {
   "cell_type": "code",
   "execution_count": null,
   "id": "3ee76f06",
   "metadata": {},
   "outputs": [],
   "source": []
  }
 ],
 "metadata": {
  "kernelspec": {
   "display_name": "Python 3 (ipykernel)",
   "language": "python",
   "name": "python3"
  },
  "language_info": {
   "codemirror_mode": {
    "name": "ipython",
    "version": 3
   },
   "file_extension": ".py",
   "mimetype": "text/x-python",
   "name": "python",
   "nbconvert_exporter": "python",
   "pygments_lexer": "ipython3",
   "version": "3.10.9"
  }
 },
 "nbformat": 4,
 "nbformat_minor": 5
}
