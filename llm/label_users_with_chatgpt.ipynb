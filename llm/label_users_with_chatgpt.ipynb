{
 "cells": [
  {
   "cell_type": "code",
   "execution_count": 3,
   "id": "0df5ee1a",
   "metadata": {},
   "outputs": [],
   "source": [
    "import time\n",
    "import openai\n",
    "import pandas as pd\n",
    "from dotenv import load_dotenv, find_dotenv   # get the system environment variables\n",
    "import os  # get command line arguments"
   ]
  },
  {
   "cell_type": "code",
   "execution_count": 4,
   "id": "8bc8de1f",
   "metadata": {},
   "outputs": [],
   "source": [
    "filename = \"../data/participant_data_for_subversive_tweets_on_vaccines.csv\"\n",
    "f = open(filename, \"r\")\n",
    "userids = pd.read_csv(filename)['userid'].tolist()\n",
    "texts = pd.read_csv(filename)['text'].tolist()\n",
    "\n",
    "participants_to_tweets = {}\n",
    "\n",
    "for indx in range(len(userids)):\n",
    "    userid = userids[indx]\n",
    "    text = texts[indx]\n",
    "    if userid in participants_to_tweets:\n",
    "        if type(text)!=str:\n",
    "            continue\n",
    "        participants_to_tweets[userid] += \"\\n\"+text\n",
    "    else:\n",
    "        participants_to_tweets[userid] = text"
   ]
  },
  {
   "cell_type": "code",
   "execution_count": 5,
   "id": "e5031c55",
   "metadata": {},
   "outputs": [],
   "source": [
    "load_dotenv(find_dotenv())  # load the environment variables\n",
    "openai.api_key=os.getenv(\"OPENAI_API_KEY\")\n",
    "\n",
    "messages = []\n",
    "system_message = \"You are deciding whether people are pro-science or anti-science with respect to COVID based on their tweets. Pro-science users generally express opinions that agree with conventional science and anti-science users may propagate conspiracies.\"\n",
    "messages.append({\"role\":\"system\",\"content\":system_message})"
   ]
  },
  {
   "cell_type": "code",
   "execution_count": null,
   "id": "65c1c6d4",
   "metadata": {},
   "outputs": [],
   "source": [
    "a = 0\n",
    "with open(\"chatgpt_classifications.csv\", \"a+\") as f:\n",
    "    f.write(\"userid,classification\\n\")\n",
    "for user in participants_to_tweets:  # This starts an infinite loop\n",
    "    messages = []\n",
    "    system_message = \"You are deciding whether people are pro-science or anti-science with respect to COVID based on their tweets. Pro-science users generally express opinions that agree with conventional science and anti-science users may propagate conspiracies.\"\n",
    "    messages.append({\"role\":\"system\",\"content\":system_message})\n",
    "    message = \"I am trying to classify twitter users as either pro-science or anti-science with respect to COVID. Pro-science users generally express opinions that agree with conventional science and anti-science users may propagate conspiracies. Could you classify a user based on this text. Your output should simply be pro-science, anti-science or unsure: \"+participants_to_tweets[user]   \n",
    "    messages.append({\"role\":\"user\",\"content\": message})\n",
    "\n",
    "    response=openai.ChatCompletion.create(\n",
    "     model=\"gpt-3.5-turbo\",\n",
    "     messages=messages\n",
    "    )\n",
    "    time.sleep(60)\n",
    "\n",
    "    reply = response[\"choices\"][0][\"message\"][\"content\"]\n",
    "    with open(\"chatgpt_classifications.csv\", \"a+\") as f:\n",
    "        f.write(str(user)+\",\"+reply+\"\\n\")\n",
    "        a += 1\n",
    "        if a == 2:\n",
    "            break"
   ]
  },
  {
   "cell_type": "code",
   "execution_count": null,
   "id": "95fe5f4f",
   "metadata": {},
   "outputs": [],
   "source": []
  }
 ],
 "metadata": {
  "kernelspec": {
   "display_name": "Python 3 (ipykernel)",
   "language": "python",
   "name": "python3"
  },
  "language_info": {
   "codemirror_mode": {
    "name": "ipython",
    "version": 3
   },
   "file_extension": ".py",
   "mimetype": "text/x-python",
   "name": "python",
   "nbconvert_exporter": "python",
   "pygments_lexer": "ipython3",
   "version": "3.10.9"
  }
 },
 "nbformat": 4,
 "nbformat_minor": 5
}
