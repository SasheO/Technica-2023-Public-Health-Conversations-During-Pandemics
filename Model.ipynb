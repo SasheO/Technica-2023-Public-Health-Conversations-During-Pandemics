{
 "cells": [
  {
   "cell_type": "code",
   "execution_count": null,
   "metadata": {},
   "outputs": [],
   "source": [
    "'''\n",
    "TODO: install sent2vec, make it easy for undergrads\n",
    "clean up text in the files/make it easy for them to do so here\n",
    "run everything, make sure it works, upload to google drive\n",
    "clean up google drieve\n",
    "'''"
   ]
  },
  {
   "cell_type": "code",
   "execution_count": 3,
   "metadata": {
    "scrolled": true
   },
   "outputs": [],
   "source": [
    "import pickle\n",
    "import numpy as np\n",
    "import pandas as pd\n",
    "import os\n",
    "import sent2vec # install here https://stackoverflow.com/questions/60718059/how-to-install-sent2vec-module , https://github.com/epfml/sent2vec "
   ]
  },
  {
   "cell_type": "code",
   "execution_count": 4,
   "metadata": {},
   "outputs": [],
   "source": [
    "user_df=pd.read_csv('health_experts.csv') #pip ins"
   ]
  },
  {
   "cell_type": "code",
   "execution_count": null,
   "metadata": {},
   "outputs": [],
   "source": [
    "#Clean up text to remove special characters\n",
    "\n",
    "import preprocessor as p\n",
    "import re\n",
    "import string\n",
    "from gensim.parsing.preprocessing import remove_stopwords\n",
    "from nltk.tokenize import TweetTokenizer\n",
    "tt = TweetTokenizer()\n",
    "from string import digits\n",
    "import re\n",
    "irrelevant_chars=\"~?!./\\:;+=&^%$#@(,)[]_*\"\n",
    "emoji_pattern = re.compile(\"[\"\n",
    "        u\"\\U0001F600-\\U0001F64F\"  # emoticons\n",
    "        u\"\\U0001F300-\\U0001F5FF\"  # symbols & pictographs\n",
    "        u\"\\U0001F680-\\U0001F6FF\"  # transport & map symbols\n",
    "        u\"\\U0001F1E0-\\U0001F1FF\"  # flags (iOS)\n",
    "                           \"]+\", flags=re.UNICODE)\n",
    "def deep_clean(x):\n",
    "    x=x.lower()\n",
    "    x=re.sub(r'http\\S+', '', x)\n",
    "    remove_digits = str.maketrans(' ', ' ', digits)\n",
    "    remove_chars = str.maketrans(' ', ' ', irrelevant_chars)\n",
    "    x = x.translate(remove_digits)\n",
    "    x = x.translate(remove_chars)\n",
    "    x = emoji_pattern.sub(r'', x)\n",
    "    x=x.replace(\"-\",' ')\n",
    "    x=x.replace('!',' ')\n",
    "    x=x.replace('?',' ')\n",
    "    x=x.replace('@',' ')\n",
    "    x=x.replace('&',' ')\n",
    "    x=x.replace('$',' ')\n",
    "    x=x.replace('``',' ')\n",
    "    x=x.replace(\"'s\",' ')\n",
    "    x=x.replace(\"''\",' ')\n",
    "    return x"
   ]
  },
  {
   "cell_type": "code",
   "execution_count": null,
   "metadata": {},
   "outputs": [],
   "source": [
    "##NOTE: Students will need to group individual tweets by the user. Here's a snippet:\n",
    "# user_text={}\n",
    "# for i in tqdm(range(len(df))): #Here df is the tweet data.\n",
    "#     user=loc_df['screen_name'].iloc[i]\n",
    "#     text=loc_df['text'].iloc[i]\n",
    "#     if user not in user_text:\n",
    "#         user_text[user]=' '\n",
    "#     user_text[user]=user_text[user]+' '+text\n",
    "#user_text_df=pd.DataFrame(user_text.items(),columns=['screen_name','text'])"
   ]
  },
  {
   "cell_type": "code",
   "execution_count": 5,
   "metadata": {},
   "outputs": [
    {
     "ename": "AttributeError",
     "evalue": "module 'sent2vec' has no attribute 'Sent2vecModel'",
     "output_type": "error",
     "traceback": [
      "\u001b[1;31m---------------------------------------------------------------------------\u001b[0m",
      "\u001b[1;31mAttributeError\u001b[0m                            Traceback (most recent call last)",
      "Cell \u001b[1;32mIn[5], line 1\u001b[0m\n\u001b[1;32m----> 1\u001b[0m model \u001b[38;5;241m=\u001b[39m \u001b[43msent2vec\u001b[49m\u001b[38;5;241;43m.\u001b[39;49m\u001b[43mSent2vecModel\u001b[49m()\n\u001b[0;32m      2\u001b[0m model\u001b[38;5;241m.\u001b[39mload_model(\u001b[38;5;124m'\u001b[39m\u001b[38;5;124m/data/Term-Analysis/twitter_bigrams.bin\u001b[39m\u001b[38;5;124m'\u001b[39m)\n\u001b[0;32m      4\u001b[0m embeddings \u001b[38;5;241m=\u001b[39m model\u001b[38;5;241m.\u001b[39membed_sentences(user_text_df[\u001b[38;5;124m'\u001b[39m\u001b[38;5;124mcleaned_text\u001b[39m\u001b[38;5;124m'\u001b[39m]\u001b[38;5;241m.\u001b[39mtolist())\n",
      "\u001b[1;31mAttributeError\u001b[0m: module 'sent2vec' has no attribute 'Sent2vecModel'"
     ]
    }
   ],
   "source": [
    "model = sent2vec.Sent2vecModel()\n",
    "model.load_model('/data/Term-Analysis/twitter_bigrams.bin')\n",
    "\n",
    "embeddings = model.embed_sentences(user_text_df['cleaned_text'].tolist())\n",
    "e=embeddings.tolist()\n",
    "\n",
    "user_text_df['embeddings']=e"
   ]
  },
  {
   "cell_type": "code",
   "execution_count": null,
   "metadata": {},
   "outputs": [],
   "source": [
    "filename = '/data/Coronavirus-Tweets/Technica23/finalized_model.sav'\n",
    "model=pickle.load(open(filename, 'rb'))"
   ]
  },
  {
   "cell_type": "code",
   "execution_count": null,
   "metadata": {},
   "outputs": [],
   "source": [
    "y_pred=model.predict(np.asarray(user_text_df['embeddings'].tolist()))"
   ]
  }
 ],
 "metadata": {
  "kernelspec": {
   "display_name": "Python 3 (ipykernel)",
   "language": "python",
   "name": "python3"
  },
  "language_info": {
   "codemirror_mode": {
    "name": "ipython",
    "version": 3
   },
   "file_extension": ".py",
   "mimetype": "text/x-python",
   "name": "python",
   "nbconvert_exporter": "python",
   "pygments_lexer": "ipython3",
   "version": "3.10.9"
  }
 },
 "nbformat": 4,
 "nbformat_minor": 4
}
