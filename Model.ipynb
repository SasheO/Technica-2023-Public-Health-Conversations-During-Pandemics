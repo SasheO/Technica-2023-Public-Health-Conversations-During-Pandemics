{
 "cells": [
  {
   "cell_type": "code",
   "execution_count": null,
   "metadata": {},
   "outputs": [],
   "source": [
    "import pickle\n",
    "import numpy as np\n",
    "import pandas as pd\n",
    "import os\n",
    "import sent2vec"
   ]
  },
  {
   "cell_type": "code",
   "execution_count": null,
   "metadata": {},
   "outputs": [],
   "source": [
    "user_df=pd.read_csv('health_experts100.csv')\n",
    "##id, tweet, user"
   ]
  },
  {
   "cell_type": "code",
   "execution_count": null,
   "metadata": {},
   "outputs": [],
   "source": [
    "##Clean up text to remove special characters\n",
    "\n",
    "# import preprocessor as p\n",
    "# import re\n",
    "# import string\n",
    "# from gensim.parsing.preprocessing import remove_stopwords\n",
    "# from nltk.tokenize import TweetTokenizer\n",
    "# tt = TweetTokenizer()\n",
    "# from string import digits\n",
    "# import re\n",
    "# irrelevant_chars=\"~?!./\\:;+=&^%$#@(,)[]_*\"\n",
    "# emoji_pattern = re.compile(\"[\"\n",
    "#         u\"\\U0001F600-\\U0001F64F\"  # emoticons\n",
    "#         u\"\\U0001F300-\\U0001F5FF\"  # symbols & pictographs\n",
    "#         u\"\\U0001F680-\\U0001F6FF\"  # transport & map symbols\n",
    "#         u\"\\U0001F1E0-\\U0001F1FF\"  # flags (iOS)\n",
    "#                            \"]+\", flags=re.UNICODE)\n",
    "# def deep_clean(x):\n",
    "#     x=x.lower()\n",
    "#     x=re.sub(r'http\\S+', '', x)\n",
    "#     remove_digits = str.maketrans(' ', ' ', digits)\n",
    "#     remove_chars = str.maketrans(' ', ' ', irrelevant_chars)\n",
    "#     x = x.translate(remove_digits)\n",
    "#     x = x.translate(remove_chars)\n",
    "#     x = emoji_pattern.sub(r'', x)\n",
    "#     x=x.replace(\"-\",' ')\n",
    "#     x=x.replace('!',' ')\n",
    "#     x=x.replace('?',' ')\n",
    "#     x=x.replace('@',' ')\n",
    "#     x=x.replace('&',' ')\n",
    "#     x=x.replace('$',' ')\n",
    "#     x=x.replace('``',' ')\n",
    "#     x=x.replace(\"'s\",' ')\n",
    "#     x=x.replace(\"''\",' ')\n",
    "#     return x"
   ]
  },
  {
   "cell_type": "code",
   "execution_count": null,
   "metadata": {},
   "outputs": [],
   "source": [
    "##NOTE: Students will need to group individual tweets by the user. Here's a snippet:\n",
    "# user_text={}\n",
    "# for i in tqdm(range(len(df))): #Here df is the tweet data.\n",
    "#     user=loc_df['screen_name'].iloc[i]\n",
    "#     text=loc_df['text'].iloc[i]\n",
    "#     if user not in user_text:\n",
    "#         user_text[user]=' '\n",
    "#     user_text[user]=user_text[user]+' '+text\n",
    "#user_text_df=pd.DataFrame(user_text.items(),columns=['screen_name','text'])"
   ]
  },
  {
   "cell_type": "code",
   "execution_count": null,
   "metadata": {},
   "outputs": [],
   "source": [
    "#https://github.com/epfml/sent2vec -> download sent2vec_twitter_bigrams\n",
    "model = sent2vec.Sent2vecModel()\n",
    "model.load_model('twitter_bigrams.bin')\n",
    "\n",
    "embeddings = model.embed_sentences(user_text_df['cleaned_text'].tolist())\n",
    "e=embeddings.tolist()\n",
    "\n",
    "user_text_df['embeddings']=e"
   ]
  },
  {
   "cell_type": "code",
   "execution_count": null,
   "metadata": {},
   "outputs": [],
   "source": [
    "filename = 'finalized_model.sav'\n",
    "model=pickle.load(open(filename, 'rb'))"
   ]
  },
  {
   "cell_type": "code",
   "execution_count": null,
   "metadata": {},
   "outputs": [],
   "source": [
    "y_pred=model.predict(np.asarray(user_text_df['embeddings'].tolist()))"
   ]
  }
 ],
 "metadata": {
  "kernelspec": {
   "display_name": "Python 3 (ipykernel)",
   "language": "python",
   "name": "python3"
  },
  "language_info": {
   "codemirror_mode": {
    "name": "ipython",
    "version": 3
   },
   "file_extension": ".py",
   "mimetype": "text/x-python",
   "name": "python",
   "nbconvert_exporter": "python",
   "pygments_lexer": "ipython3",
   "version": "3.10.9"
  }
 },
 "nbformat": 4,
 "nbformat_minor": 4
}
