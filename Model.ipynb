{
 "cells": [
  {
   "cell_type": "code",
   "execution_count": 1,
   "metadata": {},
   "outputs": [],
   "source": [
    "import pickle\n",
    "import numpy as np\n",
    "import pandas as pd\n",
    "import os\n",
    "import sent2vec"
   ]
  },
  {
   "cell_type": "code",
   "execution_count": 2,
   "metadata": {},
   "outputs": [
    {
     "data": {
      "text/plain": "                  tweetid     screen_name                            date  \\\n0     1301875815882412032  HelenBranswell  Fri Sep 04 13:32:36 +0000 2020   \n1     1326359181813755904      MoNscience  Wed Nov 11 03:00:46 +0000 2020   \n2     1337244117353508864   JoeBrunoWSOC9  Fri Dec 11 03:53:37 +0000 2020   \n3     1382829830777958400       EricTopol  Thu Apr 15 22:54:58 +0000 2021   \n4     1395752514222530560        ghn_news  Fri May 21 14:45:05 +0000 2021   \n...                   ...             ...                             ...   \n7093  1329494791344812032       DemFromCT  Thu Nov 19 18:40:33 +0000 2020   \n7094  1299143481244487680       luckytran  Fri Aug 28 00:35:17 +0000 2020   \n7095  1232308398944854016    NACCHOalerts  Tue Feb 25 14:16:32 +0000 2020   \n7096  1292615809383071744          rwang0  Mon Aug 10 00:16:39 +0000 2020   \n7097  1347700405086556160          rwang0  Sat Jan 09 00:23:10 +0000 2021   \n\n     lang                                               text  \\\n0      en  Interesting #Covid19 vaccine development: Scie...   \n1      en  Followers of this space might recall that I po...   \n2      en  Bishop who battled COVID-19 says he thought Go...   \n3      en  Risk of covid reinfection in a prospective stu...   \n4      en  Tunisia has ended its 1-week lockdown; despite...   \n...   ...                                                ...   \n7093  zxx                            https://t.co/9GOY17jaQb   \n7094   en  A mass rally at the White House with no social...   \n7095  zxx                            https://t.co/2SOmlwwBHf   \n7096   en  MyPOV: if protestors can get out there churchg...   \n7097   en  MyPOV: the west has not done a good job with t...   \n\n                              state  friends_count  followers_count  \n0                                MA           2079           225280  \n1                               NaN           4467            13549  \n2                                NC           4017            48909  \n3                                CA            556           686676  \n4                            MD USA           2268            16655  \n...                             ...            ...              ...  \n7093                             CT           2318            23508  \n7094    New York City and Australia           3937            56156  \n7095                             DC           3522            28576  \n7096  Silicon Valley | SF | FL 410+         103619           141982  \n7097  Silicon Valley | SF | FL 410+         103619           141982  \n\n[7098 rows x 8 columns]",
      "text/html": "<div>\n<style scoped>\n    .dataframe tbody tr th:only-of-type {\n        vertical-align: middle;\n    }\n\n    .dataframe tbody tr th {\n        vertical-align: top;\n    }\n\n    .dataframe thead th {\n        text-align: right;\n    }\n</style>\n<table border=\"1\" class=\"dataframe\">\n  <thead>\n    <tr style=\"text-align: right;\">\n      <th></th>\n      <th>tweetid</th>\n      <th>screen_name</th>\n      <th>date</th>\n      <th>lang</th>\n      <th>text</th>\n      <th>state</th>\n      <th>friends_count</th>\n      <th>followers_count</th>\n    </tr>\n  </thead>\n  <tbody>\n    <tr>\n      <th>0</th>\n      <td>1301875815882412032</td>\n      <td>HelenBranswell</td>\n      <td>Fri Sep 04 13:32:36 +0000 2020</td>\n      <td>en</td>\n      <td>Interesting #Covid19 vaccine development: Scie...</td>\n      <td>MA</td>\n      <td>2079</td>\n      <td>225280</td>\n    </tr>\n    <tr>\n      <th>1</th>\n      <td>1326359181813755904</td>\n      <td>MoNscience</td>\n      <td>Wed Nov 11 03:00:46 +0000 2020</td>\n      <td>en</td>\n      <td>Followers of this space might recall that I po...</td>\n      <td>NaN</td>\n      <td>4467</td>\n      <td>13549</td>\n    </tr>\n    <tr>\n      <th>2</th>\n      <td>1337244117353508864</td>\n      <td>JoeBrunoWSOC9</td>\n      <td>Fri Dec 11 03:53:37 +0000 2020</td>\n      <td>en</td>\n      <td>Bishop who battled COVID-19 says he thought Go...</td>\n      <td>NC</td>\n      <td>4017</td>\n      <td>48909</td>\n    </tr>\n    <tr>\n      <th>3</th>\n      <td>1382829830777958400</td>\n      <td>EricTopol</td>\n      <td>Thu Apr 15 22:54:58 +0000 2021</td>\n      <td>en</td>\n      <td>Risk of covid reinfection in a prospective stu...</td>\n      <td>CA</td>\n      <td>556</td>\n      <td>686676</td>\n    </tr>\n    <tr>\n      <th>4</th>\n      <td>1395752514222530560</td>\n      <td>ghn_news</td>\n      <td>Fri May 21 14:45:05 +0000 2021</td>\n      <td>en</td>\n      <td>Tunisia has ended its 1-week lockdown; despite...</td>\n      <td>MD USA</td>\n      <td>2268</td>\n      <td>16655</td>\n    </tr>\n    <tr>\n      <th>...</th>\n      <td>...</td>\n      <td>...</td>\n      <td>...</td>\n      <td>...</td>\n      <td>...</td>\n      <td>...</td>\n      <td>...</td>\n      <td>...</td>\n    </tr>\n    <tr>\n      <th>7093</th>\n      <td>1329494791344812032</td>\n      <td>DemFromCT</td>\n      <td>Thu Nov 19 18:40:33 +0000 2020</td>\n      <td>zxx</td>\n      <td>https://t.co/9GOY17jaQb</td>\n      <td>CT</td>\n      <td>2318</td>\n      <td>23508</td>\n    </tr>\n    <tr>\n      <th>7094</th>\n      <td>1299143481244487680</td>\n      <td>luckytran</td>\n      <td>Fri Aug 28 00:35:17 +0000 2020</td>\n      <td>en</td>\n      <td>A mass rally at the White House with no social...</td>\n      <td>New York City and Australia</td>\n      <td>3937</td>\n      <td>56156</td>\n    </tr>\n    <tr>\n      <th>7095</th>\n      <td>1232308398944854016</td>\n      <td>NACCHOalerts</td>\n      <td>Tue Feb 25 14:16:32 +0000 2020</td>\n      <td>zxx</td>\n      <td>https://t.co/2SOmlwwBHf</td>\n      <td>DC</td>\n      <td>3522</td>\n      <td>28576</td>\n    </tr>\n    <tr>\n      <th>7096</th>\n      <td>1292615809383071744</td>\n      <td>rwang0</td>\n      <td>Mon Aug 10 00:16:39 +0000 2020</td>\n      <td>en</td>\n      <td>MyPOV: if protestors can get out there churchg...</td>\n      <td>Silicon Valley | SF | FL 410+</td>\n      <td>103619</td>\n      <td>141982</td>\n    </tr>\n    <tr>\n      <th>7097</th>\n      <td>1347700405086556160</td>\n      <td>rwang0</td>\n      <td>Sat Jan 09 00:23:10 +0000 2021</td>\n      <td>en</td>\n      <td>MyPOV: the west has not done a good job with t...</td>\n      <td>Silicon Valley | SF | FL 410+</td>\n      <td>103619</td>\n      <td>141982</td>\n    </tr>\n  </tbody>\n</table>\n<p>7098 rows × 8 columns</p>\n</div>"
     },
     "execution_count": 2,
     "metadata": {},
     "output_type": "execute_result"
    }
   ],
   "source": [
    "user_df = pd.read_csv('data/health_experts50.csv')\n",
    "##id, tweet, user\n",
    "user_df"
   ]
  },
  {
   "cell_type": "code",
   "execution_count": 3,
   "metadata": {},
   "outputs": [],
   "source": [
    "##Clean up text to remove special characters\n",
    "from nltk.tokenize import TweetTokenizer\n",
    "tt = TweetTokenizer()\n",
    "from string import digits\n",
    "import re\n",
    "irrelevant_chars=\"~?!./\\:;+=&^%$#@(,)[]_*\"\n",
    "emoji_pattern = re.compile(\"[\"\n",
    "        u\"\\U0001F600-\\U0001F64F\"  # emoticons\n",
    "        u\"\\U0001F300-\\U0001F5FF\"  # symbols & pictographs\n",
    "        u\"\\U0001F680-\\U0001F6FF\"  # transport & map symbols\n",
    "        u\"\\U0001F1E0-\\U0001F1FF\"  # flags (iOS)\n",
    "                           \"]+\", flags=re.UNICODE)\n",
    "def deep_clean(x):\n",
    "    x=x.lower()\n",
    "    x=re.sub(r'http\\S+', '', x)\n",
    "    remove_digits = str.maketrans(' ', ' ', digits)\n",
    "    remove_chars = str.maketrans(' ', ' ', irrelevant_chars)\n",
    "    x = x.translate(remove_digits)\n",
    "    x = x.translate(remove_chars)\n",
    "    x = emoji_pattern.sub(r'', x)\n",
    "    x=x.replace(\"-\",' ')\n",
    "    x=x.replace('!',' ')\n",
    "    x=x.replace('?',' ')\n",
    "    x=x.replace('@',' ')\n",
    "    x=x.replace('&',' ')\n",
    "    x=x.replace('$',' ')\n",
    "    x=x.replace('``',' ')\n",
    "    x=x.replace(\"'s\",' ')\n",
    "    x=x.replace(\"''\",' ')\n",
    "    return x"
   ]
  },
  {
   "cell_type": "code",
   "execution_count": 4,
   "metadata": {},
   "outputs": [],
   "source": [
    "##NOTE: Students will need to group individual tweets by the user. Here's a snippet:\n",
    "user_text={}\n",
    "for i in range(len(user_df)): #Here df is the tweet data.\n",
    "    user=user_df['screen_name'].iloc[i]\n",
    "    text=user_df['text'].iloc[i]\n",
    "    if user not in user_text:\n",
    "        user_text[user]=' '\n",
    "    user_text[user]=deep_clean(str(user_text[user])+' '+str(text))\n",
    "\n",
    "user_text_df=pd.DataFrame(user_text.items(),columns=['screen_name','cleaned_text'])"
   ]
  },
  {
   "cell_type": "code",
   "execution_count": 5,
   "metadata": {},
   "outputs": [
    {
     "name": "stdout",
     "output_type": "stream",
     "text": [
      "48\n"
     ]
    }
   ],
   "source": [
    "#https://github.com/epfml/sent2vec -> download sent2vec_twitter_bigrams\n",
    "model = sent2vec.Sent2vecModel()\n",
    "model.load_model('twitter_bigrams.bin')\n",
    "\n",
    "embeddings = model.embed_sentences(user_text_df['cleaned_text'].tolist())\n",
    "e=embeddings.tolist()\n",
    "\n",
    "user_text_df['embeddings']=e\n",
    "print(len(user_text_df))"
   ]
  },
  {
   "cell_type": "code",
   "execution_count": 6,
   "metadata": {},
   "outputs": [
    {
     "name": "stderr",
     "output_type": "stream",
     "text": [
      "/Users/paiheng/miniconda3/envs/General/lib/python3.8/site-packages/sklearn/base.py:348: InconsistentVersionWarning: Trying to unpickle estimator LogisticRegression from version 1.0.2 when using version 1.3.1. This might lead to breaking code or invalid results. Use at your own risk. For more info please refer to:\n",
      "https://scikit-learn.org/stable/model_persistence.html#security-maintainability-limitations\n",
      "  warnings.warn(\n"
     ]
    }
   ],
   "source": [
    "filename = 'model.sav'\n",
    "model=pickle.load(open(filename, 'rb'))"
   ]
  },
  {
   "cell_type": "code",
   "execution_count": 7,
   "metadata": {},
   "outputs": [
    {
     "data": {
      "text/plain": "array([1., 1., 1., 1., 1., 1., 1., 1., 1., 1., 1., 1., 1., 1., 1., 1., 1.,\n       1., 1., 1., 1., 1., 1., 1., 1., 1., 1., 1., 1., 1., 1., 1., 1., 1.,\n       1., 1., 1., 1., 1., 0., 1., 1., 1., 1., 1., 1., 1., 1.])"
     },
     "execution_count": 7,
     "metadata": {},
     "output_type": "execute_result"
    }
   ],
   "source": [
    "y_pred=model.predict(np.asarray(user_text_df['embeddings'].tolist()))\n",
    "y_pred"
   ]
  },
  {
   "cell_type": "code",
   "execution_count": 10,
   "outputs": [
    {
     "data": {
      "text/plain": "array([[0.15909044, 0.84090956],\n       [0.21489008, 0.78510992],\n       [0.14196902, 0.85803098],\n       [0.12492592, 0.87507408],\n       [0.08997536, 0.91002464],\n       [0.12488939, 0.87511061],\n       [0.152878  , 0.847122  ],\n       [0.11231565, 0.88768435],\n       [0.02918177, 0.97081823],\n       [0.26998049, 0.73001951],\n       [0.12482156, 0.87517844],\n       [0.32095513, 0.67904487],\n       [0.11176967, 0.88823033],\n       [0.08815855, 0.91184145],\n       [0.08539698, 0.91460302],\n       [0.33385485, 0.66614515],\n       [0.18605773, 0.81394227],\n       [0.05123814, 0.94876186],\n       [0.06016279, 0.93983721],\n       [0.06420794, 0.93579206],\n       [0.10490102, 0.89509898],\n       [0.10505903, 0.89494097],\n       [0.12205887, 0.87794113],\n       [0.0625888 , 0.9374112 ],\n       [0.07707782, 0.92292218],\n       [0.20815296, 0.79184704],\n       [0.11762274, 0.88237726],\n       [0.04234982, 0.95765018],\n       [0.20832524, 0.79167476],\n       [0.16342719, 0.83657281],\n       [0.21112907, 0.78887093],\n       [0.20276417, 0.79723583],\n       [0.0442223 , 0.9557777 ],\n       [0.05198336, 0.94801664],\n       [0.04648804, 0.95351196],\n       [0.29531017, 0.70468983],\n       [0.27416584, 0.72583416],\n       [0.08523589, 0.91476411],\n       [0.06996876, 0.93003124],\n       [0.74725581, 0.25274419],\n       [0.13711929, 0.86288071],\n       [0.08166105, 0.91833895],\n       [0.01676863, 0.98323137],\n       [0.09369741, 0.90630259],\n       [0.06229007, 0.93770993],\n       [0.17674259, 0.82325741],\n       [0.09333051, 0.90666949],\n       [0.19083308, 0.80916692]])"
     },
     "execution_count": 10,
     "metadata": {},
     "output_type": "execute_result"
    }
   ],
   "source": [
    "y_pred_prob = model.predict_proba(np.asarray(user_text_df['embeddings'].tolist()))\n",
    "y_pred_prob"
   ],
   "metadata": {
    "collapsed": false
   }
  },
  {
   "cell_type": "code",
   "execution_count": null,
   "outputs": [],
   "source": [],
   "metadata": {
    "collapsed": false
   }
  }
 ],
 "metadata": {
  "kernelspec": {
   "display_name": "Python 3 (ipykernel)",
   "language": "python",
   "name": "python3"
  },
  "language_info": {
   "codemirror_mode": {
    "name": "ipython",
    "version": 3
   },
   "file_extension": ".py",
   "mimetype": "text/x-python",
   "name": "python",
   "nbconvert_exporter": "python",
   "pygments_lexer": "ipython3",
   "version": "3.10.9"
  }
 },
 "nbformat": 4,
 "nbformat_minor": 4
}
